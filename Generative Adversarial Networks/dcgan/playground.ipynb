{
 "cells": [
  {
   "cell_type": "code",
   "execution_count": 2,
   "metadata": {},
   "outputs": [],
   "source": [
    "import torch\n",
    "from torch.utils.data import DataLoader, Dataset\n",
    "from torchvision.datasets import MNIST\n",
    "from torchvision import transforms\n",
    "\n",
    "composed_transforms = transforms.Compose([\n",
    "    transforms.ToTensor(), # performs scaling by default for image datasets between range(0-1)\n",
    "])\n",
    "\n",
    "train_val_set = MNIST(\"../MNIST/train\", train=True, transform=composed_transforms, download=True)\n",
    "test_set = MNIST(\"../MNIST/test\", train=False, transform=composed_transforms, download=True)\n",
    "\n",
    "train_set, val_set = torch.utils.data.random_split(dataset=train_val_set, lengths=[.9, .1])\n"
   ]
  },
  {
   "cell_type": "code",
   "execution_count": null,
   "metadata": {},
   "outputs": [],
   "source": [
    "from torch import nn\n",
    "\n",
    "class Generator(nn.Module):\n",
    "    \"\"\"\n",
    "    Deep Convolutional GAN generator class, TBD\n",
    "    \"\"\"\n",
    "    \n",
    "    def __init__(self, noise_dim, image_channel=1, hidden_dim=64) -> None:\n",
    "        super(Generator, self).__init__()\n",
    "        self.noise_dim=noise_dim\n",
    "        self.image_channel=image_channel\n",
    "        # Building the generator block of the network\n",
    "        \n",
    "        self.gen = nn.Sequential(\n",
    "            self.make_gen_block(self.noise_dim, hidden_dim*4),\n",
    "            self.make_gen_block(hidden_dim*4, hidden_dim*2, kernel_size=4, stride=1),\n",
    "            self.make_gen_block(hidden_dim*2, hidden_dim),\n",
    "            self.make_gen_block(hidden_dim, self.image_channel, kernel_size=4, final_layer=True),\n",
    "        )\n",
    "        \n",
    "    def generator_block(self, input_channels, output_channels, kernel_size=3, stride=2, final_layer=False):\n",
    "        # Conditional return according to the layer type\n",
    "        return nn.Sequential(\n",
    "            nn.ConvTranspose2d(\n",
    "                input_channels,\n",
    "                output_channels,\n",
    "                kernel_size,\n",
    "                stride\n",
    "            ),\n",
    "            nn.BatchNorm2d(output_channels),\n",
    "            nn.ReLU(inplace=True),\n",
    "        ) if not final_layer else nn.Sequential(\n",
    "            nn.ConvTranspose2d(\n",
    "                input_channels,\n",
    "                output_channels,\n",
    "                kernel_size,\n",
    "                stride\n",
    "            ),\n",
    "            nn.Tanh()\n",
    "        )"
   ]
  }
 ],
 "metadata": {
  "kernelspec": {
   "display_name": "venv",
   "language": "python",
   "name": "python3"
  },
  "language_info": {
   "codemirror_mode": {
    "name": "ipython",
    "version": 3
   },
   "file_extension": ".py",
   "mimetype": "text/x-python",
   "name": "python",
   "nbconvert_exporter": "python",
   "pygments_lexer": "ipython3",
   "version": "3.11.8"
  }
 },
 "nbformat": 4,
 "nbformat_minor": 2
}
